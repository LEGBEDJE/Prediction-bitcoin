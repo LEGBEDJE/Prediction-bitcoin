{
 "cells": [
  {
   "cell_type": "markdown",
   "metadata": {},
   "source": [
    "# Exploration des données du Bitcoin"
   ]
  },
  {
   "cell_type": "code",
   "execution_count": 9,
   "metadata": {},
   "outputs": [],
   "source": [
    "import pandas as pd\n",
    "import matplotlib.pyplot as plt\n",
    "import seaborn as sns\n",
    "\n",
    "df = pd.read_csv('/home/legbedje/Documents/datascienceproject/predictionbitcoin/data/raw/BTC-USD.csv')\n",
    "\n",
    "# Nettoyage des données\n",
    "df['Date'] = pd.to_datetime(df['Date'])\n",
    "df['Price'] = df['Price'].astype(str).str.replace(',', '').astype(float)\n",
    "df['Open'] = df['Open'].astype(str).str.replace(',', '').astype(float)\n",
    "df['High'] = df['High'].astype(str).str.replace(',', '').astype(float)\n",
    "df['Low'] = df['Low'].astype(str).str.replace(',', '').astype(float)\n",
    "\n",
    "# Nettoyage spécifique pour 'Vol.' et 'Change %'\n",
    "df['Vol.'] = df['Vol.'].astype(str).str.replace('K', 'e3').str.replace('M', 'e6').str.replace(',', '')\n",
    "df['Vol.'] = pd.to_numeric(df['Vol.'], errors='coerce')\n",
    "\n",
    "df['Change %'] = df['Change %'].astype(str).str.replace('%', '')\n",
    "df['Change %'] = pd.to_numeric(df['Change %'], errors='coerce')\n",
    "\n",
    "# Renommer la colonne 'Price' en 'Close'\n",
    "df = df.rename(columns={'Price': 'Close'})\n",
    "\n",
    "# Trier les données par date\n",
    "df = df.sort_values(by='Date')"
   ]
  },
  {
   "cell_type": "markdown",
   "metadata": {},
   "source": [
    "## Afficher les premières lignes"
   ]
  },
  {
   "cell_type": "code",
   "execution_count": 10,
   "metadata": {},
   "outputs": [
    {
     "data": {
      "text/html": [
       "<div>\n",
       "<style scoped>\n",
       "    .dataframe tbody tr th:only-of-type {\n",
       "        vertical-align: middle;\n",
       "    }\n",
       "\n",
       "    .dataframe tbody tr th {\n",
       "        vertical-align: top;\n",
       "    }\n",
       "\n",
       "    .dataframe thead th {\n",
       "        text-align: right;\n",
       "    }\n",
       "</style>\n",
       "<table border=\"1\" class=\"dataframe\">\n",
       "  <thead>\n",
       "    <tr style=\"text-align: right;\">\n",
       "      <th></th>\n",
       "      <th>Date</th>\n",
       "      <th>Close</th>\n",
       "      <th>Open</th>\n",
       "      <th>High</th>\n",
       "      <th>Low</th>\n",
       "      <th>Vol.</th>\n",
       "      <th>Change %</th>\n",
       "    </tr>\n",
       "  </thead>\n",
       "  <tbody>\n",
       "    <tr>\n",
       "      <th>1720</th>\n",
       "      <td>2020-01-02</td>\n",
       "      <td>6967.0</td>\n",
       "      <td>7199.7</td>\n",
       "      <td>7209.6</td>\n",
       "      <td>6901.4</td>\n",
       "      <td>632780.0</td>\n",
       "      <td>-3.23</td>\n",
       "    </tr>\n",
       "    <tr>\n",
       "      <th>1719</th>\n",
       "      <td>2020-01-03</td>\n",
       "      <td>7343.1</td>\n",
       "      <td>6967.1</td>\n",
       "      <td>7402.9</td>\n",
       "      <td>6884.1</td>\n",
       "      <td>936290.0</td>\n",
       "      <td>5.40</td>\n",
       "    </tr>\n",
       "    <tr>\n",
       "      <th>1718</th>\n",
       "      <td>2020-01-04</td>\n",
       "      <td>7376.8</td>\n",
       "      <td>7345.1</td>\n",
       "      <td>7433.1</td>\n",
       "      <td>7291.4</td>\n",
       "      <td>523910.0</td>\n",
       "      <td>0.46</td>\n",
       "    </tr>\n",
       "    <tr>\n",
       "      <th>1717</th>\n",
       "      <td>2020-01-05</td>\n",
       "      <td>7372.5</td>\n",
       "      <td>7376.8</td>\n",
       "      <td>7501.0</td>\n",
       "      <td>7345.6</td>\n",
       "      <td>628140.0</td>\n",
       "      <td>-0.06</td>\n",
       "    </tr>\n",
       "    <tr>\n",
       "      <th>1716</th>\n",
       "      <td>2020-01-06</td>\n",
       "      <td>7759.1</td>\n",
       "      <td>7372.6</td>\n",
       "      <td>7783.1</td>\n",
       "      <td>7366.7</td>\n",
       "      <td>786750.0</td>\n",
       "      <td>5.24</td>\n",
       "    </tr>\n",
       "  </tbody>\n",
       "</table>\n",
       "</div>"
      ],
      "text/plain": [
       "           Date   Close    Open    High     Low      Vol.  Change %\n",
       "1720 2020-01-02  6967.0  7199.7  7209.6  6901.4  632780.0     -3.23\n",
       "1719 2020-01-03  7343.1  6967.1  7402.9  6884.1  936290.0      5.40\n",
       "1718 2020-01-04  7376.8  7345.1  7433.1  7291.4  523910.0      0.46\n",
       "1717 2020-01-05  7372.5  7376.8  7501.0  7345.6  628140.0     -0.06\n",
       "1716 2020-01-06  7759.1  7372.6  7783.1  7366.7  786750.0      5.24"
      ]
     },
     "execution_count": 10,
     "metadata": {},
     "output_type": "execute_result"
    }
   ],
   "source": [
    "df.head()"
   ]
  },
  {
   "cell_type": "markdown",
   "metadata": {},
   "source": [
    "## Informations sur le DataFrame"
   ]
  },
  {
   "cell_type": "code",
   "execution_count": 11,
   "metadata": {},
   "outputs": [
    {
     "name": "stdout",
     "output_type": "stream",
     "text": [
      "<class 'pandas.core.frame.DataFrame'>\n",
      "Index: 1721 entries, 1720 to 0\n",
      "Data columns (total 7 columns):\n",
      " #   Column    Non-Null Count  Dtype         \n",
      "---  ------    --------------  -----         \n",
      " 0   Date      1721 non-null   datetime64[ns]\n",
      " 1   Close     1721 non-null   float64       \n",
      " 2   Open      1721 non-null   float64       \n",
      " 3   High      1721 non-null   float64       \n",
      " 4   Low       1721 non-null   float64       \n",
      " 5   Vol.      1705 non-null   float64       \n",
      " 6   Change %  1721 non-null   float64       \n",
      "dtypes: datetime64[ns](1), float64(6)\n",
      "memory usage: 107.6 KB\n"
     ]
    }
   ],
   "source": [
    "df.info()"
   ]
  },
  {
   "cell_type": "markdown",
   "metadata": {},
   "source": [
    "## Statistiques descriptives"
   ]
  },
  {
   "cell_type": "code",
   "execution_count": 12,
   "metadata": {},
   "outputs": [
    {
     "data": {
      "text/html": [
       "<div>\n",
       "<style scoped>\n",
       "    .dataframe tbody tr th:only-of-type {\n",
       "        vertical-align: middle;\n",
       "    }\n",
       "\n",
       "    .dataframe tbody tr th {\n",
       "        vertical-align: top;\n",
       "    }\n",
       "\n",
       "    .dataframe thead th {\n",
       "        text-align: right;\n",
       "    }\n",
       "</style>\n",
       "<table border=\"1\" class=\"dataframe\">\n",
       "  <thead>\n",
       "    <tr style=\"text-align: right;\">\n",
       "      <th></th>\n",
       "      <th>Date</th>\n",
       "      <th>Close</th>\n",
       "      <th>Open</th>\n",
       "      <th>High</th>\n",
       "      <th>Low</th>\n",
       "      <th>Vol.</th>\n",
       "      <th>Change %</th>\n",
       "    </tr>\n",
       "  </thead>\n",
       "  <tbody>\n",
       "    <tr>\n",
       "      <th>count</th>\n",
       "      <td>1721</td>\n",
       "      <td>1721.000000</td>\n",
       "      <td>1721.000000</td>\n",
       "      <td>1721.000000</td>\n",
       "      <td>1721.000000</td>\n",
       "      <td>1.705000e+03</td>\n",
       "      <td>1721.000000</td>\n",
       "    </tr>\n",
       "    <tr>\n",
       "      <th>mean</th>\n",
       "      <td>2022-05-10 23:59:59.999999744</td>\n",
       "      <td>33596.383672</td>\n",
       "      <td>33565.769378</td>\n",
       "      <td>34337.484834</td>\n",
       "      <td>32744.458512</td>\n",
       "      <td>1.270552e+07</td>\n",
       "      <td>0.184102</td>\n",
       "    </tr>\n",
       "    <tr>\n",
       "      <th>min</th>\n",
       "      <td>2020-01-02 00:00:00</td>\n",
       "      <td>4826.000000</td>\n",
       "      <td>4815.200000</td>\n",
       "      <td>5369.300000</td>\n",
       "      <td>3869.500000</td>\n",
       "      <td>2.600000e+02</td>\n",
       "      <td>-39.180000</td>\n",
       "    </tr>\n",
       "    <tr>\n",
       "      <th>25%</th>\n",
       "      <td>2021-03-07 00:00:00</td>\n",
       "      <td>19262.900000</td>\n",
       "      <td>19262.200000</td>\n",
       "      <td>19552.100000</td>\n",
       "      <td>18873.000000</td>\n",
       "      <td>5.902000e+04</td>\n",
       "      <td>-1.320000</td>\n",
       "    </tr>\n",
       "    <tr>\n",
       "      <th>50%</th>\n",
       "      <td>2022-05-11 00:00:00</td>\n",
       "      <td>30166.900000</td>\n",
       "      <td>30139.700000</td>\n",
       "      <td>30645.900000</td>\n",
       "      <td>29597.800000</td>\n",
       "      <td>1.019200e+05</td>\n",
       "      <td>0.050000</td>\n",
       "    </tr>\n",
       "    <tr>\n",
       "      <th>75%</th>\n",
       "      <td>2023-07-15 00:00:00</td>\n",
       "      <td>46859.000000</td>\n",
       "      <td>46855.700000</td>\n",
       "      <td>48118.800000</td>\n",
       "      <td>45602.100000</td>\n",
       "      <td>2.845700e+05</td>\n",
       "      <td>1.670000</td>\n",
       "    </tr>\n",
       "    <tr>\n",
       "      <th>max</th>\n",
       "      <td>2024-09-17 00:00:00</td>\n",
       "      <td>73066.300000</td>\n",
       "      <td>73066.700000</td>\n",
       "      <td>73740.900000</td>\n",
       "      <td>71338.400000</td>\n",
       "      <td>7.528400e+08</td>\n",
       "      <td>19.410000</td>\n",
       "    </tr>\n",
       "    <tr>\n",
       "      <th>std</th>\n",
       "      <td>NaN</td>\n",
       "      <td>18135.421437</td>\n",
       "      <td>18134.998044</td>\n",
       "      <td>18551.176727</td>\n",
       "      <td>17668.043277</td>\n",
       "      <td>7.614749e+07</td>\n",
       "      <td>3.447974</td>\n",
       "    </tr>\n",
       "  </tbody>\n",
       "</table>\n",
       "</div>"
      ],
      "text/plain": [
       "                                Date         Close          Open  \\\n",
       "count                           1721   1721.000000   1721.000000   \n",
       "mean   2022-05-10 23:59:59.999999744  33596.383672  33565.769378   \n",
       "min              2020-01-02 00:00:00   4826.000000   4815.200000   \n",
       "25%              2021-03-07 00:00:00  19262.900000  19262.200000   \n",
       "50%              2022-05-11 00:00:00  30166.900000  30139.700000   \n",
       "75%              2023-07-15 00:00:00  46859.000000  46855.700000   \n",
       "max              2024-09-17 00:00:00  73066.300000  73066.700000   \n",
       "std                              NaN  18135.421437  18134.998044   \n",
       "\n",
       "               High           Low          Vol.     Change %  \n",
       "count   1721.000000   1721.000000  1.705000e+03  1721.000000  \n",
       "mean   34337.484834  32744.458512  1.270552e+07     0.184102  \n",
       "min     5369.300000   3869.500000  2.600000e+02   -39.180000  \n",
       "25%    19552.100000  18873.000000  5.902000e+04    -1.320000  \n",
       "50%    30645.900000  29597.800000  1.019200e+05     0.050000  \n",
       "75%    48118.800000  45602.100000  2.845700e+05     1.670000  \n",
       "max    73740.900000  71338.400000  7.528400e+08    19.410000  \n",
       "std    18551.176727  17668.043277  7.614749e+07     3.447974  "
      ]
     },
     "execution_count": 12,
     "metadata": {},
     "output_type": "execute_result"
    }
   ],
   "source": [
    "df.describe()"
   ]
  },
  {
   "cell_type": "markdown",
   "metadata": {},
   "source": [
    "## Visualisation de l'évolution du prix de clôture"
   ]
  },
  {
   "cell_type": "code",
   "execution_count": 13,
   "metadata": {},
   "outputs": [
    {
     "data": {
      "image/png": "[encoded data removed]",
      "text/plain": [
       "<Figure size 1080x504 with 1 Axes>"
      ]
     },
     "metadata": {
      "needs_background": "light"
     },
     "output_type": "display_data"
    }
   ],
   "source": [
    "plt.figure(figsize=(15, 7))\n",
    "plt.plot(df['Date'], df['Close'])\n",
    "plt.title('Évolution du prix de clôture du Bitcoin')\n",
    "plt.xlabel('Date')\n",
    "plt.ylabel('Prix de clôture (USD)')\n",
    "plt.grid(True)\n",
    "plt.show()"
   ]
  }
 ],
 "metadata": {
  "kernelspec": {
   "display_name": "Python 3",
   "language": "python",
   "name": "python3"
  },
  "language_info": {
   "codemirror_mode": {
    "name": "ipython",
    "version": 3
   },
   "file_extension": ".py",
   "mimetype": "text/x-python",
   "name": "python",
   "nbconvert_exporter": "python",
   "pygments_lexer": "ipython3",
   "version": "3.10.12"
  }
 },
 "nbformat": 4,
 "nbformat_minor": 4
}
